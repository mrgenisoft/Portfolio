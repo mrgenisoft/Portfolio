{
 "cells": [
  {
   "cell_type": "code",
   "execution_count": 1,
   "metadata": {},
   "outputs": [],
   "source": [
    "from subprocess import Popen\n",
    "import numpy as np\n",
    "import pandas as pd\n",
    "import matplotlib.pyplot as plt\n",
    "import win32com.client as win32\n",
    "\n",
    "%config InlineBackend.figure_format = 'png'\n",
    "pd.options.display.max_columns = None"
   ]
  },
  {
   "cell_type": "markdown",
   "metadata": {},
   "source": [
    "### Константы"
   ]
  },
  {
   "cell_type": "code",
   "execution_count": 2,
   "metadata": {},
   "outputs": [],
   "source": [
    "MbalPath = \"mbal.exe\"\n",
    "InputFilename = \"devon.mbi\"\n",
    "UnitSystem = \"Norwegian S.I.\""
   ]
  },
  {
   "cell_type": "markdown",
   "metadata": {},
   "source": [
    "### Вспомогательные функции"
   ]
  },
  {
   "cell_type": "code",
   "execution_count": 3,
   "metadata": {},
   "outputs": [],
   "source": [
    "def GetAppName(strval):\n",
    "    pos = strval.find(\".\")\n",
    "    if pos < 2:\n",
    "        raise Exception(\"Badly formed tag string\")\n",
    "    appname = strval[0:pos]\n",
    "    if appname != \"GAP\" and appname != \"MBAL\" and appname != \"PROSPER\":\n",
    "        raise Exception(\"Unrecognised application name in tag string\")\n",
    "    return appname"
   ]
  },
  {
   "cell_type": "code",
   "execution_count": 4,
   "metadata": {},
   "outputs": [],
   "source": [
    "def DoCmd(server, cmd):\n",
    "    err = server.DoCommand(cmd)\n",
    "    if err > 0:\n",
    "        err = server.GetErrorDescription(err)\n",
    "        raise Exception(err)"
   ]
  },
  {
   "cell_type": "code",
   "execution_count": 5,
   "metadata": {},
   "outputs": [],
   "source": [
    "def DoSet(server, varname, val):\n",
    "    err = server.SetValue(varname, val)\n",
    "    appname = GetAppName(varname)\n",
    "    err = server.GetLastError(appname)\n",
    "    if err > 0:\n",
    "        err = server.GetErrorDescription(err)\n",
    "        raise Exception(err)"
   ]
  },
  {
   "cell_type": "code",
   "execution_count": 6,
   "metadata": {},
   "outputs": [],
   "source": [
    "def DoGet(server, varname):\n",
    "    val = server.GetValue(varname)\n",
    "    appname = GetAppName(varname)\n",
    "    err = server.GetLastError(appname)\n",
    "    if err > 0:\n",
    "        err = server.GetErrorDescription(err)\n",
    "        raise Exception(err)\n",
    "    return val"
   ]
  },
  {
   "cell_type": "markdown",
   "metadata": {},
   "source": [
    "### Основной код"
   ]
  },
  {
   "cell_type": "code",
   "execution_count": 7,
   "metadata": {},
   "outputs": [],
   "source": [
    "proc = Popen(MbalPath)"
   ]
  },
  {
   "cell_type": "code",
   "execution_count": 8,
   "metadata": {},
   "outputs": [],
   "source": [
    "server = win32.Dispatch(\"PX32.OpenServer.1\")"
   ]
  },
  {
   "cell_type": "code",
   "execution_count": 9,
   "metadata": {},
   "outputs": [],
   "source": [
    "DoCmd(server, \"MBAL.OPENFILE(\\\"\" + InputFilename + \"\\\"\")"
   ]
  },
  {
   "cell_type": "code",
   "execution_count": 10,
   "metadata": {},
   "outputs": [],
   "source": [
    "DoCmd(server, \"MBAL.SETUNITSYS(\\\"\" + UnitSystem + \"\\\")\")"
   ]
  },
  {
   "cell_type": "code",
   "execution_count": 11,
   "metadata": {},
   "outputs": [
    {
     "name": "stdout",
     "output_type": "stream",
     "text": [
      "Количество танков: 3\n"
     ]
    }
   ],
   "source": [
    "tankcnt = int(DoGet(server, \"MBAL.MB.TRES.COUNT\"))\n",
    "print(\"Количество танков:\", tankcnt)"
   ]
  },
  {
   "cell_type": "code",
   "execution_count": 12,
   "metadata": {},
   "outputs": [],
   "source": [
    "df_list = {}"
   ]
  },
  {
   "cell_type": "code",
   "execution_count": 13,
   "metadata": {},
   "outputs": [],
   "source": [
    "for i in range(tankcnt):\n",
    "    df = pd.DataFrame(columns=[\"DATE\", \"GAS\"], dtype=str)\n",
    "    prefix = \"MBAL.MB.TRES[{Prediction}][\" + str(i+1) + \"]\"\n",
    "    name = DoGet(server, prefix + \".NAME\")\n",
    "    rowcnt = int(DoGet(server, prefix + \".COUNT\"))\n",
    "    for j in range(rowcnt):\n",
    "        date = DoGet(server, prefix + \"[\" + str(j) + \"].TIME\")\n",
    "        gas = DoGet(server, prefix + \"[\" + str(j) + \"].AVEGASTOTAL\")\n",
    "        df = df.append(pd.DataFrame([[date, gas]], columns=[\"DATE\", \"GAS\"]))\n",
    "    df[\"DATE\"] = df[\"DATE\"].astype('datetime64[ns]')\n",
    "    df[\"GAS\"] = df[\"GAS\"].astype('float64')\n",
    "    df.loc[df[\"GAS\"] > 10000000000, \"GAS\"] = np.NaN\n",
    "    df_list[name] = df"
   ]
  },
  {
   "cell_type": "code",
   "execution_count": 14,
   "metadata": {},
   "outputs": [],
   "source": [
    "server = None"
   ]
  },
  {
   "cell_type": "code",
   "execution_count": 15,
   "metadata": {},
   "outputs": [],
   "source": [
    "proc.terminate()"
   ]
  },
  {
   "cell_type": "code",
   "execution_count": 16,
   "metadata": {},
   "outputs": [
    {
     "data": {
      "image/png": "[encoded data removed]",
      "text/plain": [
       "<Figure size 432x288 with 1 Axes>"
      ]
     },
     "metadata": {
      "needs_background": "light"
     },
     "output_type": "display_data"
    }
   ],
   "source": [
    "fig, ax = plt.subplots()\n",
    "for name in df_list:\n",
    "    df = df_list[name]\n",
    "    df.plot(x=\"DATE\", y=\"GAS\", label=name, ax=ax)\n",
    "ax.set_xlabel(\"Year\")\n",
    "ax.set_ylabel(\"Gas Rate\")\n",
    "plt.show()"
   ]
  },
  {
   "cell_type": "code",
   "execution_count": null,
   "metadata": {},
   "outputs": [],
   "source": []
  }
 ],
 "metadata": {
  "kernelspec": {
   "display_name": "Python 3",
   "language": "python",
   "name": "python3"
  },
  "language_info": {
   "codemirror_mode": {
    "name": "ipython",
    "version": 3
   },
   "file_extension": ".py",
   "mimetype": "text/x-python",
   "name": "python",
   "nbconvert_exporter": "python",
   "pygments_lexer": "ipython3",
   "version": "3.8.8"
  }
 },
 "nbformat": 4,
 "nbformat_minor": 2
}
